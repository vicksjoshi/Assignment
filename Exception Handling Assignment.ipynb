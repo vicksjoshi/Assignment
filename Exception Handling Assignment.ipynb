{
 "cells": [
  {
   "cell_type": "markdown",
   "metadata": {},
   "source": [
    "# 1. Write a function to compute 5/0 and use try/except to catch the exceptions."
   ]
  },
  {
   "cell_type": "code",
   "execution_count": 4,
   "metadata": {},
   "outputs": [
    {
     "name": "stdout",
     "output_type": "stream",
     "text": [
      "Enter the numerator: 5\n",
      "Enter the Denominator: 0\n",
      "division by zero\n",
      "this is inside arithmetic error block \n"
     ]
    }
   ],
   "source": [
    "try :\n",
    "    a = int(input(\"Enter the numerator: \"))\n",
    "    b = int(input(\"Enter the Denominator: \"))\n",
    "    c = a/b \n",
    "#except Exception as e :\n",
    " #   print(\"this is inside Exception block\" ) \n",
    "  #  print(e) \"\"\"\n",
    "except IOError as e :\n",
    "    print(\" in case of failure it will come to this block \")\n",
    "    print(e)\n",
    "    print(\"this is inside IOerror block \") \n",
    "except ArithmeticError as e :\n",
    "    print(e)\n",
    "    print(\"this is inside arithmetic error block \")\n",
    "except FileNotFoundError as e :\n",
    "    print(e)\n",
    "    print(\"this is inside Filenotfound error block \") \n",
    "except ValueError as e :\n",
    "    print(e) \n",
    "    print(\"this is inside value error block \") \n"
   ]
  },
  {
   "cell_type": "markdown",
   "metadata": {},
   "source": [
    "# 2. Implement a Python program to generate all sentences where subject is in[\"Americans\", \"Indians\"] and verb is in [\"Play\", \"watch\"] and the object is in[\"Baseball\",\"cricket\"]."
   ]
  },
  {
   "cell_type": "code",
   "execution_count": 15,
   "metadata": {},
   "outputs": [
    {
     "name": "stdout",
     "output_type": "stream",
     "text": [
      "[('Americans', 'play', 'Baseball'), ('Americans', 'play', 'Cricket'), ('Americans', 'watch', 'Baseball'), ('Americans', 'watch', 'Cricket'), ('Indians', 'play', 'Baseball'), ('Indians', 'play', 'Cricket'), ('Indians', 'watch', 'Baseball'), ('Indians', 'watch', 'Cricket')]\n"
     ]
    }
   ],
   "source": [
    "subjects=['Americans',\"Indians\"]\n",
    "verbs=[\"play\",\"watch\"]\n",
    "objects=[\"Baseball\",\"Cricket\"]\n",
    "l1=[(x,y,z) for x in subjects for y in verbs for z in objects]\n",
    "print(l1)"
   ]
  },
  {
   "cell_type": "code",
   "execution_count": 20,
   "metadata": {},
   "outputs": [
    {
     "name": "stdout",
     "output_type": "stream",
     "text": [
      "[('Americans', 'play', 'Baseball'), ('Americans', 'play', 'Cricket'), ('Americans', 'watch', 'Baseball'), ('Americans', 'watch', 'Cricket'), ('Indians', 'play', 'Baseball'), ('Indians', 'play', 'Cricket'), ('Indians', 'watch', 'Baseball'), ('Indians', 'watch', 'Cricket')]\n"
     ]
    }
   ],
   "source": [
    "import itertools\n",
    "subjects=['Americans',\"Indians\"]\n",
    "verbs=[\"play\",\"watch\"]\n",
    "objects=[\"Baseball\",\"Cricket\"]\n",
    "print(list(itertools.product(subjects, verbs, objects)))"
   ]
  },
  {
   "cell_type": "code",
   "execution_count": null,
   "metadata": {},
   "outputs": [],
   "source": []
  }
 ],
 "metadata": {
  "kernelspec": {
   "display_name": "Python 3",
   "language": "python",
   "name": "python3"
  },
  "language_info": {
   "codemirror_mode": {
    "name": "ipython",
    "version": 3
   },
   "file_extension": ".py",
   "mimetype": "text/x-python",
   "name": "python",
   "nbconvert_exporter": "python",
   "pygments_lexer": "ipython3",
   "version": "3.7.6"
  }
 },
 "nbformat": 4,
 "nbformat_minor": 4
}
